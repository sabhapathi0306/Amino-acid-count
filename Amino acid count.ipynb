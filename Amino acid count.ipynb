{
 "cells": [
  {
   "cell_type": "code",
   "execution_count": 1,
   "metadata": {},
   "outputs": [],
   "source": [
    "from Bio import *\n",
    "from Bio.Seq import Seq\n",
    "from Bio import SeqIO\n"
   ]
  },
  {
   "cell_type": "code",
   "execution_count": 2,
   "metadata": {},
   "outputs": [
    {
     "name": "stdout",
     "output_type": "stream",
     "text": [
      "ENTER : GAGAGGCCTAATCCAATTTAAACAACTTTGGACATTATACAAAATAGTTTCTCAAGTTATTTCTATTTAC TACATGAGTCTGTATGTACTAGAAAATTGTGTGAGTTTTTTAATCAAACATAATTAAAGTATTCATTATG TAGTAATATTTTATCTTGTTTAATAGGGAAAATAATTACACTTTAATTCCTTATGAAGGAGACAAATCTG AATTAACAGATTTCCCAGTCTCTTAATAATAATCAAGATCTAGCTATTCATACCTATGATACACCTGGCA CTGTTTTTGGCAATGTGGTATTATATAAACAAAACATACAAGAATGCTGATGTCATAAAGCTTAACTTCT TGTGAAAGGCTATAGAAAATTTTTTTAAAAACACAATTAAGAAAA\n",
      "Adenine: 149 \n",
      "Uracile: 139 \n",
      "Guanine: 53 \n",
      "Cytosine : 54\n",
      "%GC count: 27.088607594936708\n",
      "sequence length 131\n",
      "Number of stop codona 8\n",
      "Amino acid sequence: ERPNPITTLDIIQNSFSSYFYLLHESVCTRKLCEFFNQTLKYSLCSNILSCLIGKIITLFLMKETNLNQISQSLNNNQDLAIHTYDTPGTVFGNVVLYKQNIQECCHKALLVKGYRKFFKHNE\n"
     ]
    },
    {
     "name": "stderr",
     "output_type": "stream",
     "text": [
      "C:\\ProgramData\\Anaconda3\\lib\\site-packages\\Bio\\Seq.py:2334: BiopythonWarning: Partial codon, len(sequence) not a multiple of three. Explicitly trim the sequence or add trailing N before translation. This may become an error in future.\n",
      "  warnings.warn(\n"
     ]
    }
   ],
   "source": [
    "SEQ = str(input(\"ENTER : \")).upper()\n",
    "s = SEQ.replace(\" \",\"\")\n",
    "seq = Seq(s)\n",
    "Transcribe = seq.transcribe()\n",
    "b = Transcribe.count('A')\n",
    "c = Transcribe.count('U')\n",
    "d = Transcribe.count('G')\n",
    "e = Transcribe.count('C')\n",
    "c = Transcribe.count('U')\n",
    "print(\"Adenine:\",b ,\"\\n\" \"Uracile:\",c,\"\\n\" \"Guanine:\",d, \"\\n\" \"Cytosine :\",e)\n",
    "f = ((d+e)/(b+c+d+e))*100\n",
    "print(\"%GC count:\",f)\n",
    "Translate = Transcribe.translate()\n",
    "print(\"sequence length\",len(Translate))\n",
    "Translate_string = str(Translate)\n",
    "i = Translate.count(\"*\")\n",
    "print(\"Number of stop codona\",i)\n",
    "j = \"*\"\n",
    "k = Translate_string.replace(j,'')\n",
    "print(\"Amino acid sequence:\",k)\n",
    "     \n",
    "        \n",
    "\n",
    "\n",
    "\n"
   ]
  },
  {
   "cell_type": "code",
   "execution_count": 3,
   "metadata": {},
   "outputs": [],
   "source": [
    "\n",
    "A = Translate.split(\"*\")\n",
    "B = [str(i) for i in A]"
   ]
  },
  {
   "cell_type": "code",
   "execution_count": 4,
   "metadata": {},
   "outputs": [],
   "source": [
    "# counting the amino acids\n",
    "from collections import Counter\n",
    "A = Counter(Translate_string)"
   ]
  },
  {
   "cell_type": "code",
   "execution_count": 5,
   "metadata": {},
   "outputs": [],
   "source": [
    "# dict into tuples\n",
    "test_list = [(k, v) for k, v in A.items()]"
   ]
  },
  {
   "cell_type": "code",
   "execution_count": 6,
   "metadata": {},
   "outputs": [],
   "source": [
    "# list of tuples\n",
    "res = [(ele) for ele in test_list]"
   ]
  },
  {
   "cell_type": "code",
   "execution_count": 7,
   "metadata": {},
   "outputs": [],
   "source": [
    "# converting tuples into list\n",
    "i = [ list(j) for j in res]\n"
   ]
  },
  {
   "cell_type": "code",
   "execution_count": 8,
   "metadata": {},
   "outputs": [],
   "source": [
    "# list is saved as csv file\n",
    "import csv\n",
    "field_names = ['Amino_acid','count']\n",
    "with open('new.csv','w') as f:\n",
    "    write = csv.writer(f)\n",
    "    write.writerow(field_names)\n",
    "    write.writerows(i)"
   ]
  },
  {
   "cell_type": "code",
   "execution_count": 9,
   "metadata": {},
   "outputs": [
    {
     "name": "stdout",
     "output_type": "stream",
     "text": [
      "  Amino_acid  count\n",
      "0          E      6\n",
      "1          R      3\n",
      "2          P      3\n",
      "3          N     12\n",
      "4          I     10\n"
     ]
    }
   ],
   "source": [
    "import pandas as pd\n",
    "df  =pd.read_csv(\"new.csv\")\n",
    "print(df.head())"
   ]
  },
  {
   "cell_type": "code",
   "execution_count": 10,
   "metadata": {},
   "outputs": [],
   "source": [
    "from matplotlib import pyplot as plt"
   ]
  },
  {
   "cell_type": "code",
   "execution_count": 11,
   "metadata": {},
   "outputs": [
    {
     "data": {
      "text/html": [
       "<div>\n",
       "<style scoped>\n",
       "    .dataframe tbody tr th:only-of-type {\n",
       "        vertical-align: middle;\n",
       "    }\n",
       "\n",
       "    .dataframe tbody tr th {\n",
       "        vertical-align: top;\n",
       "    }\n",
       "\n",
       "    .dataframe thead th {\n",
       "        text-align: right;\n",
       "    }\n",
       "</style>\n",
       "<table border=\"1\" class=\"dataframe\">\n",
       "  <thead>\n",
       "    <tr style=\"text-align: right;\">\n",
       "      <th></th>\n",
       "      <th>Amino_acid</th>\n",
       "      <th>count</th>\n",
       "    </tr>\n",
       "  </thead>\n",
       "  <tbody>\n",
       "    <tr>\n",
       "      <th>0</th>\n",
       "      <td>E</td>\n",
       "      <td>6</td>\n",
       "    </tr>\n",
       "    <tr>\n",
       "      <th>1</th>\n",
       "      <td>R</td>\n",
       "      <td>3</td>\n",
       "    </tr>\n",
       "    <tr>\n",
       "      <th>2</th>\n",
       "      <td>P</td>\n",
       "      <td>3</td>\n",
       "    </tr>\n",
       "    <tr>\n",
       "      <th>3</th>\n",
       "      <td>N</td>\n",
       "      <td>12</td>\n",
       "    </tr>\n",
       "    <tr>\n",
       "      <th>4</th>\n",
       "      <td>I</td>\n",
       "      <td>10</td>\n",
       "    </tr>\n",
       "    <tr>\n",
       "      <th>5</th>\n",
       "      <td>*</td>\n",
       "      <td>8</td>\n",
       "    </tr>\n",
       "    <tr>\n",
       "      <th>6</th>\n",
       "      <td>T</td>\n",
       "      <td>9</td>\n",
       "    </tr>\n",
       "    <tr>\n",
       "      <th>7</th>\n",
       "      <td>L</td>\n",
       "      <td>16</td>\n",
       "    </tr>\n",
       "    <tr>\n",
       "      <th>8</th>\n",
       "      <td>D</td>\n",
       "      <td>3</td>\n",
       "    </tr>\n",
       "    <tr>\n",
       "      <th>9</th>\n",
       "      <td>Q</td>\n",
       "      <td>7</td>\n",
       "    </tr>\n",
       "    <tr>\n",
       "      <th>10</th>\n",
       "      <td>S</td>\n",
       "      <td>9</td>\n",
       "    </tr>\n",
       "    <tr>\n",
       "      <th>11</th>\n",
       "      <td>F</td>\n",
       "      <td>8</td>\n",
       "    </tr>\n",
       "    <tr>\n",
       "      <th>12</th>\n",
       "      <td>Y</td>\n",
       "      <td>6</td>\n",
       "    </tr>\n",
       "    <tr>\n",
       "      <th>13</th>\n",
       "      <td>H</td>\n",
       "      <td>4</td>\n",
       "    </tr>\n",
       "    <tr>\n",
       "      <th>14</th>\n",
       "      <td>V</td>\n",
       "      <td>5</td>\n",
       "    </tr>\n",
       "    <tr>\n",
       "      <th>15</th>\n",
       "      <td>C</td>\n",
       "      <td>6</td>\n",
       "    </tr>\n",
       "    <tr>\n",
       "      <th>16</th>\n",
       "      <td>K</td>\n",
       "      <td>9</td>\n",
       "    </tr>\n",
       "    <tr>\n",
       "      <th>17</th>\n",
       "      <td>G</td>\n",
       "      <td>4</td>\n",
       "    </tr>\n",
       "    <tr>\n",
       "      <th>18</th>\n",
       "      <td>M</td>\n",
       "      <td>1</td>\n",
       "    </tr>\n",
       "    <tr>\n",
       "      <th>19</th>\n",
       "      <td>A</td>\n",
       "      <td>2</td>\n",
       "    </tr>\n",
       "  </tbody>\n",
       "</table>\n",
       "</div>"
      ],
      "text/plain": [
       "   Amino_acid  count\n",
       "0           E      6\n",
       "1           R      3\n",
       "2           P      3\n",
       "3           N     12\n",
       "4           I     10\n",
       "5           *      8\n",
       "6           T      9\n",
       "7           L     16\n",
       "8           D      3\n",
       "9           Q      7\n",
       "10          S      9\n",
       "11          F      8\n",
       "12          Y      6\n",
       "13          H      4\n",
       "14          V      5\n",
       "15          C      6\n",
       "16          K      9\n",
       "17          G      4\n",
       "18          M      1\n",
       "19          A      2"
      ]
     },
     "execution_count": 11,
     "metadata": {},
     "output_type": "execute_result"
    }
   ],
   "source": [
    "data = pd.DataFrame(df)\n",
    "data.head(20)"
   ]
  },
  {
   "cell_type": "code",
   "execution_count": 12,
   "metadata": {},
   "outputs": [
    {
     "data": {
      "image/png": "[encoded data removed]",
      "text/plain": [
       "<Figure size 1080x576 with 1 Axes>"
      ]
     },
     "metadata": {
      "needs_background": "light"
     },
     "output_type": "display_data"
    }
   ],
   "source": [
    "AA = data['Amino_acid'].head(20)\n",
    "cou = data['count'].head(20)\n",
    "fig = plt.figure(figsize =(15,8))\n",
    "plt.bar(AA[0:20], cou[0:20])\n",
    "plt.xlabel('Amino acids', fontweight ='bold', fontsize = 20)\n",
    "plt.ylabel('count', fontweight ='bold', fontsize = 20)\n",
    "plt.title(\"Amino acid count in given sequence\")\n",
    "plt.show()"
   ]
  },
  {
   "cell_type": "code",
   "execution_count": null,
   "metadata": {},
   "outputs": [],
   "source": []
  }
 ],
 "metadata": {
  "kernelspec": {
   "display_name": "Python 3",
   "language": "python",
   "name": "python3"
  },
  "language_info": {
   "codemirror_mode": {
    "name": "ipython",
    "version": 3
   },
   "file_extension": ".py",
   "mimetype": "text/x-python",
   "name": "python",
   "nbconvert_exporter": "python",
   "pygments_lexer": "ipython3",
   "version": "3.8.3"
  }
 },
 "nbformat": 4,
 "nbformat_minor": 4
}
